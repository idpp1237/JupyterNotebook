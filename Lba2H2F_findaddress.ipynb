{
 "cells": [
  {
   "cell_type": "code",
   "execution_count": 1,
   "metadata": {},
   "outputs": [],
   "source": [
    "#setting&configure\n",
    "\n",
    "\n"
   ]
  },
  {
   "cell_type": "code",
   "execution_count": 15,
   "metadata": {},
   "outputs": [
    {
     "name": "stdout",
     "output_type": "stream",
     "text": [
      "Hblk:\t\t0x3a7\n",
      "HPage:\t\t0x15a1\n",
      "StartSector:\t0x0\n",
      "HSector:\t0xad08\n",
      "=======\n",
      "Hblk:\t\t935\n",
      "HPage:\t\t5537\n",
      "StartSector:\t0\n",
      "HSector:\t44296\n"
     ]
    }
   ],
   "source": [
    "#Lba=>H address\n",
    "def F4kParser(ch,ce,plane,page4k):\n",
    "    #BICS5\n",
    "    g16TotalPgPerF2hTab=0x1C00\n",
    "    #u32TempFPageNoTran F4K in super blk\n",
    "    #u32TempFPageNoTran=(FPage<<gPhyPageAddrBitShiftCnt)|\n",
    "    #(PlaneAddr<<gPlaneAddrBitShiftCnt)|\n",
    "    #(Ch<<gChAddrBitShiftCnt)|\n",
    "    #(Ce<<gCeAddrBitShiftCnt)\n",
    "    \n",
    "def Lba2H(u32LbaAddr):\n",
    "    #\n",
    "    cSctrTo4kShift=3;cSctrPer4k=8\n",
    "    #\n",
    "    g32SectorPerBlockH=229376#BICS 4\n",
    "    g32SectorPerBlockH=229376#BICS 5\n",
    "    u32HSector=u32LbaAddr%g32SectorPerBlockH;\n",
    "    u16HBlock=(int(((u32LbaAddr)/((g32SectorPerBlockH)))));\n",
    "    u16HPage=u32HSector>>cSctrTo4kShift;\n",
    "    uStartSector=u32HSector&(cSctrPer4k-1);\n",
    "    u32HSector=u32HSector;\n",
    "    return u32HSector,u16HBlock,u16HPage,uStartSector\n",
    "\n",
    "\n",
    "u32HSector,u16HBlock,u16HPage,uStartSector=Lba2H(209626888)#214510856\n",
    "u32HSector,u16HBlock,u16HPage,uStartSector=Lba2H(214510856)\n",
    "#u32HSector,u16HBlock,u16HPage,uStartSector=Lba2H(1536)\n",
    "print(\"Hblk:\\t\\t\"+str(hex(u16HBlock)))\n",
    "print(\"HPage:\\t\\t\"+str(hex(u16HPage)))\n",
    "print(\"StartSector:\\t\"+str(hex(uStartSector)))\n",
    "print(\"HSector:\\t\"+str(hex(u32HSector)))\n",
    "print(\"=======\")\n",
    "print(\"Hblk:\\t\\t\"+str((u16HBlock)))\n",
    "print(\"HPage:\\t\\t\"+str((u16HPage)))\n",
    "print(\"StartSector:\\t\"+str((uStartSector)))\n",
    "print(\"HSector:\\t\"+str((u32HSector)))"
   ]
  },
  {
   "cell_type": "code",
   "execution_count": 12,
   "metadata": {},
   "outputs": [
    {
     "data": {
      "text/plain": [
       "348742240"
      ]
     },
     "execution_count": 12,
     "metadata": {},
     "output_type": "execute_result"
    }
   ],
   "source": [
    "g32SectorPerBlockH=229376\n"
   ]
  },
  {
   "cell_type": "code",
   "execution_count": 13,
   "metadata": {},
   "outputs": [
    {
     "name": "stdout",
     "output_type": "stream",
     "text": [
      "u16FBlock:\t83\n",
      "g32FPageNoTran:\t1664\n",
      "=======\n",
      "u16FBlock:\t0x53\n",
      "g32FPageNoTran:\t0x680\n"
     ]
    }
   ],
   "source": [
    "HBLK=287\n",
    "\n",
    "FBLK=58\n",
    "FPAGE=136\n",
    "#\n",
    "gPage4kPerH2fTab=0x20\n",
    "#u16FBlock=g16arH2fTabBlk[mGetH2fTabBlkIndex(u16Hblock)];\n",
    "#u32FPage=(LWORD)(mGetH2fTabPagePtr(u16Hblock))*gPage4kPerH2fTab;\n",
    "\n",
    "\n",
    "\n",
    "#setH2fTabPagePtr函數\n",
    "#g16arH2fTabPtr[(g32TotalHBlock+mGetHmbLink(u16Hblock))]=u16TabPagePtr 有hmb的狀況\n",
    "#g16arH2fTabPtr[u16Hblock]=u16TabPagePtr\n",
    "\n",
    "u16FBlock=83\n",
    "u32FPage=52*gPage4kPerH2fTab\n",
    "#u32FPage=0x5*gPage4kPerH2fTab\n",
    "g16FBlock=u16FBlock\n",
    "g32FPageNoTran=u32FPage\n",
    "print(\"u16FBlock:\\t\"+str(u16FBlock))\n",
    "print(\"g32FPageNoTran:\\t\"+str(u32FPage))\n",
    "print(\"=======\")\n",
    "print(\"u16FBlock:\\t\"+str(hex(u16FBlock)))\n",
    "print(\"g32FPageNoTran:\\t\"+str(hex(u32FPage)))\n"
   ]
  },
  {
   "cell_type": "code",
   "execution_count": 14,
   "metadata": {},
   "outputs": [
    {
     "name": "stdout",
     "output_type": "stream",
     "text": [
      "DieAddr:\t0x0\n",
      "Ce:\t\t0x0\n",
      "IntlvAddr:\t0x0\n",
      "Ch:\t\t0x0\n",
      "PlaneAddr:\t0x0\n",
      "FPage:\t\t0x34\n"
     ]
    }
   ],
   "source": [
    "gPage4kPerH2fTab=0x20\n",
    "u32FPage=52*gPage4kPerH2fTab\n",
    "g32FPageNoTran=u32FPage\n",
    "g16FBlock=0x5B7\n",
    "\n",
    "u32TempFPageNoTran=g32FPageNoTran\n",
    "AbstractFBlock=g16FBlock\n",
    "###############BICS5 4ch 1\n",
    "gDieAddrBitShiftCnt2=0x05;g32DieAddrBitMask=0\n",
    "gCeAddrBitShiftCnt=0x05;g32CeAddrBitMask=0\n",
    "gDieBitCnt=0x00;\n",
    "gChAddrBitShiftCnt=0x03;g32ChAddrBitMask=0x00000003\n",
    "gPlaneAddrBitShiftCnt=0x02;g32PlaneAddrBitMask=1\n",
    "gPhyPageAddrBitShiftCnt=0x05;g32PhyPageAddrMask=0x07FFFFFF\n",
    "\n",
    "###############\n",
    "DieAddr=((u32TempFPageNoTran>>gDieAddrBitShiftCnt2)&g32DieAddrBitMask)\n",
    "Ce=((u32TempFPageNoTran>>gCeAddrBitShiftCnt)&g32CeAddrBitMask)\n",
    "IntlvAddr=(Ce<<gDieBitCnt)+DieAddr\n",
    "Ch=((u32TempFPageNoTran>>gChAddrBitShiftCnt)&g32ChAddrBitMask)\n",
    "PlaneAddr=((u32TempFPageNoTran>>gPlaneAddrBitShiftCnt)&g32PlaneAddrBitMask);\n",
    "FPage=((u32TempFPageNoTran>>gPhyPageAddrBitShiftCnt)&g32PhyPageAddrMask);\n",
    "print(\"DieAddr:\\t\"+str(hex(DieAddr)))\n",
    "print(\"Ce:\\t\\t\"+str(hex(Ce)))\n",
    "print(\"IntlvAddr:\\t\"+str(hex(IntlvAddr)))\n",
    "print(\"Ch:\\t\\t\"+str(hex(Ch)))\n",
    "print(\"PlaneAddr:\\t\"+str(hex(PlaneAddr)))\n",
    "print(\"FPage:\\t\\t\"+str(hex(FPage)))\n",
    "\n"
   ]
  },
  {
   "cell_type": "code",
   "execution_count": 33,
   "metadata": {},
   "outputs": [
    {
     "data": {
      "text/plain": [
       "38.0"
      ]
     },
     "execution_count": 33,
     "metadata": {},
     "output_type": "execute_result"
    }
   ],
   "source": [
    "HPage:\t\t0x15a1\n",
    "#table find value\n",
    "#input u16FBlock FPage Ch PlaneAddr IntlvAddr\n",
    "\n",
    "#we have Hblk:\t\t0x0 HPage:\t\t0x98\n",
    "#Eztool 一列 16 byte， 一個4k對應地址為4byte =一列 4個4k地址\n",
    "#HPage=0x98=152 152/4=38 會在38列(從0數) 餘數0 則為第一組\n",
    "#HPage=0xF0=240 240/4=60 會在60列(從0數) 餘數0 則為第一組\n",
    "647/4=161 (a1)\n",
    "648/4=162 (a2)\n",
    "#HPage=192 192/4=48 LBA 1536\n",
    "#會得到地址ex  D8 99 D8 01 =>(01D8 99D8) 32bit\n",
    "                F0 00 20 00=>00 20 00 F0\n",
    "                C0 00 20 00=>00 20 00 C0\n",
    "                84 02 20 00=>00 20 02 84\n",
    "                87 02 20 00=>00 20 02 87\n",
    "                88 02 20 00=>00 20 02 88\n",
    "                F0 3D 41 05=>05 41 3D F0\n",
    "                42 6F C9 0E=>0E C9 6F 42\n",
    "                31 8F 10 24=>24 10 8F 31\n",
    "                29 8F 10 24=>24 10 8F 29\n",
    "                2D 8F 10 24=>24 10 8F 2D\n",
    "                FF FF FF 3F=>3F FF FF FF\n",
    "                \n",
    "0x00 3F FF FF\n",
    "\n",
    "\n",
    "10 0x2\n",
    "0000 0000 0000 1111 0000 0xF0\n",
    "\n",
    "00 1001 0110 1111 0100 0010 0x96F42\n",
    "1110 11 0x3B\n",
    "\n",
    "\n",
    "10 0x2\n",
    "0x0284 644 \n",
    "0x0287\n",
    "0x0288 648\n",
    "#define mGetSrcFBlkAddr(x)                       (((x)>>c32SrcFPageAddrBitNum)&c16FBlockInitValue)   20       0x3FF\n",
    "#define mGetSrcFPageAddr(x)                      ((x)&c32SrcFPageAddrMask) 0x000FFFFF notrans\n",
    "\n",
    "\n",
    "\n",
    "#此時找到 Fblk \n",
    "#u32TempFPageNoTran=g32FPageNoTran\n",
    "#AbstractFBlock=g16FBlock\n",
    "#在做一次換算 帶入EZtool\n",
    "\n",
    "\n",
    "#define c16MaxBlockNum                           3328//2048\n",
    "#define c16FBlockInitValue                         0xFFF\n",
    "#define c32SrcFPageAddrMask                    0x0003FFFF\n",
    "#define c32SrcFPageAddrBitNum                 18"
   ]
  },
  {
   "cell_type": "code",
   "execution_count": null,
   "metadata": {},
   "outputs": [],
   "source": []
  },
  {
   "cell_type": "code",
   "execution_count": 17,
   "metadata": {},
   "outputs": [],
   "source": [
    "#1010 1101 0100 1101 0100 1101 1001 1101\n",
    "Fblk=0x241\n",
    "\n",
    "g32FPageNoTran=  0x08F29\n",
    "g32FPageNoTran=  0x08F2C\n",
    "#g32FPageNoTran=  0x08F2D\n",
    "#g32FPageNoTran=  0x08F31\n",
    "#g32FPageNoTran= 0xf1\n",
    "#g32FPageNoTran= 0xc0\n",
    "Fblk=0x5B2\n",
    "g32FPageNoTran=0x185D\n",
    "g32FPageNoTran=0x3EF9"
   ]
  },
  {
   "cell_type": "code",
   "execution_count": 18,
   "metadata": {},
   "outputs": [
    {
     "name": "stdout",
     "output_type": "stream",
     "text": [
      "DieAddr:\t0x0\n",
      "Ce:\t\t0x1\n",
      "IntlvAddr:\t0x1\n",
      "Ch:\t\t0x3\n",
      "PlaneAddr:\t0x0\n",
      "FPage:\t\t0xfb\n"
     ]
    }
   ],
   "source": [
    "u32TempFPageNoTran=g32FPageNoTran\n",
    "#u32TempFPageNoTran=12288\n",
    "AbstractFBlock=Fblk\n",
    "###############\n",
    "gDieAddrBitShiftCnt2=0x05;g32DieAddrBitMask=0\n",
    "gCeAddrBitShiftCnt=0x05;g32CeAddrBitMask=0\n",
    "gDieBitCnt=0x00;\n",
    "gChAddrBitShiftCnt=0x03;g32ChAddrBitMask=0x00000003\n",
    "gPlaneAddrBitShiftCnt=0x02;g32PlaneAddrBitMask=1\n",
    "gPhyPageAddrBitShiftCnt=0x05;g32PhyPageAddrMask=0x07FFFFFF\n",
    "\n",
    "###############BICS5 4ch 2\n",
    "gDieAddrBitShiftCnt2=0x05;g32DieAddrBitMask=0\n",
    "gCeAddrBitShiftCnt=0x05;g32CeAddrBitMask=1\n",
    "gDieBitCnt=0x00;\n",
    "gChAddrBitShiftCnt=0x03;g32ChAddrBitMask=0x00000003\n",
    "gPlaneAddrBitShiftCnt=0x02;g32PlaneAddrBitMask=1\n",
    "gPhyPageAddrBitShiftCnt=0x06;g32PhyPageAddrMask=0x03FFFFFF\n",
    "\n",
    "###############B27\n",
    "#gDieAddrBitShiftCnt2=0x06;g32DieAddrBitMask=0\n",
    "#gCeAddrBitShiftCnt=0x06;g32CeAddrBitMask=1\n",
    "#gDieBitCnt=0x00;\n",
    "#gChAddrBitShiftCnt=0x04;g32ChAddrBitMask=0x00000003\n",
    "#gPlaneAddrBitShiftCnt=0x02;g32PlaneAddrBitMask=3\n",
    "#gPhyPageAddrBitShiftCnt=0x07;g32PhyPageAddrMask=0x01FFFFFF\n",
    "###############\n",
    "DieAddr=((u32TempFPageNoTran>>gDieAddrBitShiftCnt2)&g32DieAddrBitMask)\n",
    "Ce=((u32TempFPageNoTran>>gCeAddrBitShiftCnt)&g32CeAddrBitMask)\n",
    "IntlvAddr=(Ce<<gDieBitCnt)+DieAddr\n",
    "Ch=((u32TempFPageNoTran>>gChAddrBitShiftCnt)&g32ChAddrBitMask)\n",
    "PlaneAddr=((u32TempFPageNoTran>>gPlaneAddrBitShiftCnt)&g32PlaneAddrBitMask);\n",
    "FPage=((u32TempFPageNoTran>>gPhyPageAddrBitShiftCnt)&g32PhyPageAddrMask);\n",
    "print(\"DieAddr:\\t\"+str(hex(DieAddr)))\n",
    "print(\"Ce:\\t\\t\"+str(hex(Ce)))\n",
    "print(\"IntlvAddr:\\t\"+str(hex(IntlvAddr)))\n",
    "print(\"Ch:\\t\\t\"+str(hex(Ch)))\n",
    "print(\"PlaneAddr:\\t\"+str(hex(PlaneAddr)))\n",
    "print(\"FPage:\\t\\t\"+str(hex(FPage)))"
   ]
  },
  {
   "cell_type": "code",
   "execution_count": 32,
   "metadata": {},
   "outputs": [
    {
     "name": "stdout",
     "output_type": "stream",
     "text": [
      "DieAddr:\t0x0\n",
      "Ce:\t\t0x0\n",
      "IntlvAddr:\t0x0\n",
      "Ch:\t\t0x1\n",
      "PlaneAddr:\t0x0\n",
      "FPage:\t\t0x479\n"
     ]
    }
   ],
   "source": [
    "u32TempFPageNoTran=g32FPageNoTran\n",
    "#u32TempFPageNoTran=12288\n",
    "AbstractFBlock=Fblk\n",
    "###############\n",
    "gDieAddrBitShiftCnt2=0x05;g32DieAddrBitMask=0\n",
    "gCeAddrBitShiftCnt=0x05;g32CeAddrBitMask=0\n",
    "gDieBitCnt=0x00;\n",
    "gChAddrBitShiftCnt=0x03;g32ChAddrBitMask=0x00000003\n",
    "gPlaneAddrBitShiftCnt=0x02;g32PlaneAddrBitMask=1\n",
    "gPhyPageAddrBitShiftCnt=0x05;g32PhyPageAddrMask=0x07FFFFFF\n",
    "###############B27\n",
    "#gDieAddrBitShiftCnt2=0x06;g32DieAddrBitMask=0\n",
    "#gCeAddrBitShiftCnt=0x06;g32CeAddrBitMask=1\n",
    "#gDieBitCnt=0x00;\n",
    "#gChAddrBitShiftCnt=0x04;g32ChAddrBitMask=0x00000003\n",
    "#gPlaneAddrBitShiftCnt=0x02;g32PlaneAddrBitMask=3\n",
    "#gPhyPageAddrBitShiftCnt=0x07;g32PhyPageAddrMask=0x01FFFFFF\n",
    "###############\n",
    "DieAddr=((u32TempFPageNoTran>>gDieAddrBitShiftCnt2)&g32DieAddrBitMask)\n",
    "Ce=((u32TempFPageNoTran>>gCeAddrBitShiftCnt)&g32CeAddrBitMask)\n",
    "IntlvAddr=(Ce<<gDieBitCnt)+DieAddr\n",
    "Ch=((u32TempFPageNoTran>>gChAddrBitShiftCnt)&g32ChAddrBitMask)\n",
    "PlaneAddr=((u32TempFPageNoTran>>gPlaneAddrBitShiftCnt)&g32PlaneAddrBitMask);\n",
    "FPage=((u32TempFPageNoTran>>gPhyPageAddrBitShiftCnt)&g32PhyPageAddrMask);\n",
    "print(\"DieAddr:\\t\"+str(hex(DieAddr)))\n",
    "print(\"Ce:\\t\\t\"+str(hex(Ce)))\n",
    "print(\"IntlvAddr:\\t\"+str(hex(IntlvAddr)))\n",
    "print(\"Ch:\\t\\t\"+str(hex(Ch)))\n",
    "print(\"PlaneAddr:\\t\"+str(hex(PlaneAddr)))\n",
    "print(\"FPage:\\t\\t\"+str(hex(FPage)))"
   ]
  },
  {
   "cell_type": "code",
   "execution_count": null,
   "metadata": {},
   "outputs": [],
   "source": [
    "void chk_buffer_data(WORD Head,WORD Len)\n",
    "{\n",
    "    BYTE *buffer=0x40000000;\n",
    "    WORD i=Head;\n",
    "    for(i=Head;i<(Head+Len);i++)\n",
    "    {\n",
    "        if (!((buffer[i*512]==0x4c)&&(buffer[i*512+1]==0x42)))\n",
    "        {\n",
    "            if (!((buffer[i*512]==0x00)&&(buffer[i*512+1]==0x00)))\n",
    "            {\n",
    "             debugWhile();\n",
    "            }\n",
    "        }\n",
    "        \n",
    "        \n",
    "    }\n",
    "    \n",
    "}"
   ]
  },
  {
   "cell_type": "code",
   "execution_count": 28,
   "metadata": {},
   "outputs": [
    {
     "data": {
      "text/plain": [
       "'0xefa'"
      ]
     },
     "execution_count": 28,
     "metadata": {},
     "output_type": "execute_result"
    }
   ],
   "source": [
    "hex_s = '0xEFA'\n",
    "a = int(hex_s,16)\n",
    "hex(a)"
   ]
  },
  {
   "cell_type": "code",
   "execution_count": 92,
   "metadata": {},
   "outputs": [
    {
     "name": "stdout",
     "output_type": "stream",
     "text": [
      "DieAddr:\t0x0\n",
      "Ce:\t\t0x0\n",
      "IntlvAddr:\t0x0\n",
      "Ch:\t\t0x2\n",
      "PlaneAddr:\t0x1\n",
      "FPage:\t\t0x47f\n"
     ]
    }
   ],
   "source": [
    "idx=1\n",
    "#g32FPageNoTran=  0x08F28+4+4*3*idx\n",
    "\n",
    "g32FPageNoTran=  0x17F4+5*0x1800\n",
    "\n",
    "u32TempFPageNoTran=g32FPageNoTran;AbstractFBlock=Fblk\n",
    "gDieAddrBitShiftCnt2=0x05;g32DieAddrBitMask=0\n",
    "\n",
    "gCeAddrBitShiftCnt=0x05;g32CeAddrBitMask=0\n",
    "gDieBitCnt=0x00;\n",
    "gChAddrBitShiftCnt=0x03;g32ChAddrBitMask=0x00000003\n",
    "gPlaneAddrBitShiftCnt=0x02;g32PlaneAddrBitMask=1\n",
    "gPhyPageAddrBitShiftCnt=0x05;g32PhyPageAddrMask=0x07FFFFFF\n",
    "\n",
    "DieAddr=((u32TempFPageNoTran>>gDieAddrBitShiftCnt2)&g32DieAddrBitMask)\n",
    "Ce=((u32TempFPageNoTran>>gCeAddrBitShiftCnt)&g32CeAddrBitMask)\n",
    "IntlvAddr=(Ce<<gDieBitCnt)+DieAddr\n",
    "Ch=((u32TempFPageNoTran>>gChAddrBitShiftCnt)&g32ChAddrBitMask)\n",
    "PlaneAddr=((u32TempFPageNoTran>>gPlaneAddrBitShiftCnt)&g32PlaneAddrBitMask);\n",
    "FPage=((u32TempFPageNoTran>>gPhyPageAddrBitShiftCnt)&g32PhyPageAddrMask);\n",
    "\n",
    "\n",
    "print(\"DieAddr:\\t\"+str(hex(DieAddr)))\n",
    "print(\"Ce:\\t\\t\"+str(hex(Ce)))\n",
    "print(\"IntlvAddr:\\t\"+str(hex(IntlvAddr)))\n",
    "print(\"Ch:\\t\\t\"+str(hex(Ch)))\n",
    "print(\"PlaneAddr:\\t\"+str(hex(PlaneAddr)))\n",
    "print(\"FPage:\\t\\t\"+str(hex(FPage)))"
   ]
  },
  {
   "cell_type": "code",
   "execution_count": null,
   "metadata": {},
   "outputs": [],
   "source": [
    "usTmpAddrInfo.u16FPage=\n",
    "((usTmpAddrInfo.u32FPageNoTran/u16TotalPgPerF2hTab)*u16TotalPgPerF2hTab)\n",
    "/(gTotalIntlvChPlaneNum*g4kNumPerPlane)\n",
    "+(usTmpAddrInfo.u16FPage%uRaidParityNum);"
   ]
  },
  {
   "cell_type": "code",
   "execution_count": 82,
   "metadata": {},
   "outputs": [
    {
     "data": {
      "text/plain": [
       "962.0"
      ]
     },
     "execution_count": 82,
     "metadata": {},
     "output_type": "execute_result"
    }
   ],
   "source": [
    "(((0x8F28/0x1800)*0x1800)/(0x08*0x04))+(0x479%3)"
   ]
  },
  {
   "cell_type": "code",
   "execution_count": 75,
   "metadata": {},
   "outputs": [
    {
     "data": {
      "text/plain": [
       "2"
      ]
     },
     "execution_count": 75,
     "metadata": {},
     "output_type": "execute_result"
    }
   ],
   "source": [
    "0x479%3"
   ]
  },
  {
   "cell_type": "code",
   "execution_count": 83,
   "metadata": {},
   "outputs": [
    {
     "data": {
      "text/plain": [
       "491"
      ]
     },
     "execution_count": 83,
     "metadata": {},
     "output_type": "execute_result"
    }
   ],
   "source": [
    "int(int((36648%6144)/32)/3)*8+3"
   ]
  },
  {
   "cell_type": "code",
   "execution_count": 84,
   "metadata": {},
   "outputs": [
    {
     "data": {
      "text/plain": [
       "5.96484375"
      ]
     },
     "execution_count": 84,
     "metadata": {},
     "output_type": "execute_result"
    }
   ],
   "source": [
    "36648/6144"
   ]
  },
  {
   "cell_type": "code",
   "execution_count": 85,
   "metadata": {},
   "outputs": [
    {
     "data": {
      "text/plain": [
       "5928"
      ]
     },
     "execution_count": 85,
     "metadata": {},
     "output_type": "execute_result"
    }
   ],
   "source": [
    "36648%6144"
   ]
  },
  {
   "cell_type": "code",
   "execution_count": 86,
   "metadata": {},
   "outputs": [
    {
     "data": {
      "text/plain": [
       "185.25"
      ]
     },
     "execution_count": 86,
     "metadata": {},
     "output_type": "execute_result"
    }
   ],
   "source": [
    "5928/32"
   ]
  },
  {
   "cell_type": "code",
   "execution_count": 87,
   "metadata": {},
   "outputs": [
    {
     "data": {
      "text/plain": [
       "61.666666666666664"
      ]
     },
     "execution_count": 87,
     "metadata": {},
     "output_type": "execute_result"
    }
   ],
   "source": [
    "185/3"
   ]
  },
  {
   "cell_type": "code",
   "execution_count": 88,
   "metadata": {},
   "outputs": [
    {
     "data": {
      "text/plain": [
       "1952"
      ]
     },
     "execution_count": 88,
     "metadata": {},
     "output_type": "execute_result"
    }
   ],
   "source": [
    "61*32"
   ]
  },
  {
   "cell_type": "code",
   "execution_count": 105,
   "metadata": {},
   "outputs": [
    {
     "data": {
      "text/plain": [
       "'0x11'"
      ]
     },
     "execution_count": 105,
     "metadata": {},
     "output_type": "execute_result"
    }
   ],
   "source": [
    "hex(0x1100^0x1111)"
   ]
  },
  {
   "cell_type": "code",
   "execution_count": 102,
   "metadata": {},
   "outputs": [],
   "source": [
    "def RaidDec(total_data,idx):\n",
    "    out=0x0000\n",
    "    for ele,i in zip(total_data,range(len(total_data))):\n",
    "        if i==idx:\n",
    "            continue\n",
    "        out=out^ele\n",
    "    return out\n",
    "        \n",
    "    "
   ]
  },
  {
   "cell_type": "code",
   "execution_count": 113,
   "metadata": {},
   "outputs": [],
   "source": [
    "x0x1000ch1plan1=[\n",
    "    0x00,0xCB,0xAA,0x55,0xAA,0xAA,0x00,0xC9,0x47,0xAA,0x55,0xAA,0xAA,0xAA,0xAA,0xAA,\n",
    "    0xAA,0xAA,0xAA,0x5A,0x55,0x55,0xAA,0xAA,0x00,0xAA,0x55,0x55,0xAA,0x0B,0x89,0x00,\n",
    "    0xAA,0x55,0x41,0x55,0xAA,0xAA,0xAA,0xAA,0xAA,0xAA,0xAA,0xAA,0x55,0x55,0xAA,0xAA,\n",
    "    0xAA,0x55,0x55,0x55,0x55,0x55,0x55,0x55,0x55,0x55,0x55,0x55,0x55,0x00,0x55,0x55  \n",
    "        ]                                                            ####0x55\n",
    "x0x1000ch0plan0=[\n",
    "    0x00,0xAA,0xAA,0x55,0x55,0xAA,0x00,0x39,0xB7,0xAA,0x55,0xAA,0xAA,0xAA,0xAA,0xAA,\n",
    "    0xAA,0xAA,0xAA,0x00,0x55,0x55,0xAA,0xAA,0x00,0xAA,0x55,0x55,0x00,0x7B,0xF9,0x00,\n",
    "    0xAA,0x55,0x94,0x00,0xAA,0xAA,0xAA,0xAA,0xAA,0xAA,0xAA,0xAA,0xAA,0x55,0xAA,0xAA,\n",
    "    0xAA,0x55,0x55,0x55,0x55,0x55,0x55,0x55,0x55,0x55,0x55,0x55,0x55,0x55,0x55,0x55\n",
    "        ]\n",
    "x0x1000ch0plan1=[\n",
    "    0x00,0xAA,0xAA,0x55,0x55,0xAA,0x00,0xBE,0x3C,0xAA,0x55,0xAA,0xAA,0xAA,0xAA,0xAA,\n",
    "    0xAA,0xAA,0xAA,0x92,0x55,0x55,0xAA,0xAA,0x00,0xAA,0x55,0x55,0x00,0x01,0x7F,0x00,\n",
    "    0xAA,0x55,0x78,0x55,0xAA,0xAA,0xAA,0xAA,0xAA,0xAA,0xAA,0xAA,0xAA,0x55,0xAA,0xAA,\n",
    "    0xAA,0x55,0x55,0x55,0x55,0x55,0x55,0x55,0x55,0x55,0x55,0x55,0x55,0x55,0x55,0x55\n",
    "        ]\n",
    "x0x1000ch1plan0=[\n",
    "    0x00,0xAA,0xAA,0x55,0xAA,0xAA,0x00,0x43,0xC1,0xAA,0x55,0xAA,0xAA,0xAA,0xAA,0xAA,\n",
    "    0xAA,0xAA,0xAA,0x76,0x55,0x55,0xAA,0xAA,0x00,0xAA,0x55,0x55,0x00,0x86,0x04,0x00,\n",
    "    0xAA,0x55,0x5D,0x55,0xAA,0xAA,0xAA,0xAA,0xAA,0xAA,0xAA,0xAA,0xAA,0x55,0xAA,0xAA,\n",
    "    0xAA,0x55,0x55,0x55,0x55,0x55,0x55,0x55,0x55,0x55,0x55,0x55,0x55,0x55,0x55,0x55\n",
    "        ]\n",
    "x0x1000ch2plan0=[\n",
    "    0x00,0x99,0xAA,0x55,0xAA,0xAA,0x00,0x4E,0xCC,0xAA,0x55,0xAA,0xAA,0xAA,0xAA,0xAA,\n",
    "    0xAA,0xAA,0xAA,0x3E,0x55,0x55,0xAA,0x55,0x00,0xAA,0x55,0x55,0xAA,0x90,0x0E,0x00,\n",
    "    0xAA,0x55,0x25,0x55,0xAA,0xAA,0xAA,0xAA,0xAA,0xAA,0xAA,0xAA,0x55,0x55,0xAA,0xAA,\n",
    "    0xAA,0x55,0x55,0x55,0x55,0x55,0x55,0x55,0x55,0x55,0x55,0x55,0x55,0x55,0x55,0x46\n",
    "        ]\n",
    "x0x1000ch2plan1=[\n",
    "    0x00,0x67,0xAA,0x55,0xAA,0x00,0x00,0xD3,0x51,0xAA,0x55,0xAA,0xAA,0xAA,0xAA,0xAA,\n",
    "    0xAA,0xAA,0xAA,0x23,0x55,0x55,0xAA,0x9D,0x00,0xAA,0x55,0x55,0xAA,0x16,0x94,0x00,\n",
    "    0xAA,0x55,0x7B,0x55,0xAA,0xAA,0xAA,0xAA,0xAA,0xAA,0xAA,0xAA,0x55,0x55,0xAA,0xAA,\n",
    "    0xAA,0x55,0x55,0x55,0x55,0x55,0x55,0x55,0x55,0x55,0x55,0x55,0x55,0x55,0x55,0x46\n",
    "        ]\n",
    "x0x1000ch3plan0=[\n",
    "    0x00,0x36,0xAA,0x55,0xAA,0x00,0x00,0x58,0xD6,0xAA,0xAA,0xAA,0xAA,0xAA,0xAA,0xAA,\n",
    "    0xAA,0xAA,0xAA,0x07,0x55,0x00,0xAA,0x00,0xAA,0xAA,0x55,0x55,0xAA,0x9B,0x19,0x00,\n",
    "    0xAA,0x55,0x00,0x9D,0xAA,0xAA,0xAA,0xAA,0xAA,0xAA,0xAA,0xAA,0x55,0x55,0xAA,0xAA,\n",
    "    0xAA,0x55,0x55,0x55,0x00,0x55,0x55,0x55,0x55,0x55,0x55,0x55,0x55,0x55,0x55,0xFF\n",
    "        ]\n",
    "x0x1000ch3plan1=[\n",
    "    0x00,0xAA,0xAA,0x55,0x00,0x00,0x00,0xDE,0x5C,0xAA,0xAA,0xAA,0xAA,0xAA,0xAA,0xAA,\n",
    "    0xAA,0xAA,0xAA,0xEB,0x55,0x00,0xAA,0x00,0xAA,0xAA,0x55,0x00,0xAA,0x20,0x9E,0x00,\n",
    "    0xAA,0x55,0x00,0x55,0xAA,0xAA,0xAA,0xAA,0xAA,0xAA,0xAA,0xAA,0x55,0x55,0xAA,0xAA,\n",
    "    0xAA,0x55,0x55,0x55,0x00,0x55,0x55,0x55,0x55,0x55,0x55,0x55,0x55,0x55,0x55,0x6E\n",
    "        ]"
   ]
  },
  {
   "cell_type": "code",
   "execution_count": 123,
   "metadata": {},
   "outputs": [
    {
     "data": {
      "text/plain": [
       "'0xa3'"
      ]
     },
     "execution_count": 123,
     "metadata": {},
     "output_type": "execute_result"
    }
   ],
   "source": [
    "x=x0x1000ch0plan0+x0x1000ch0plan1+x0x1000ch1plan0+x0x1000ch1plan1+x0x1000ch2plan0+x0x1000ch2plan1+x0x1000ch3plan0+x0x1000ch3plan1\n",
    "hex(RaidDec(x,100000000))"
   ]
  },
  {
   "cell_type": "code",
   "execution_count": null,
   "metadata": {},
   "outputs": [],
   "source": []
  }
 ],
 "metadata": {
  "kernelspec": {
   "display_name": "Python 3",
   "language": "python",
   "name": "python3"
  },
  "language_info": {
   "codemirror_mode": {
    "name": "ipython",
    "version": 3
   },
   "file_extension": ".py",
   "mimetype": "text/x-python",
   "name": "python",
   "nbconvert_exporter": "python",
   "pygments_lexer": "ipython3",
   "version": "3.8.5"
  }
 },
 "nbformat": 4,
 "nbformat_minor": 4
}
